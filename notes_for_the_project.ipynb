{
 "cells": [
  {
   "cell_type": "markdown",
   "id": "989b0d78",
   "metadata": {},
   "source": [
    "## check out streamlit packagage for dashboards\n",
    "\n",
    "videos: 5 Beginner Data Science Projects to start today!;\n",
    "        build 12 data science apps with streamlit;\n",
    "preferred topic: ;\n",
    "        predictin airbnb prices"
   ]
  },
  {
   "cell_type": "code",
   "execution_count": 1,
   "id": "984e7121",
   "metadata": {},
   "outputs": [],
   "source": [
    "import streamlit as st\n",
    "import pandas as pd\n",
    "import yfinance as yf\n"
   ]
  },
  {
   "cell_type": "code",
   "execution_count": 4,
   "id": "3b93e5b3",
   "metadata": {},
   "outputs": [
    {
     "name": "stdout",
     "output_type": "stream",
     "text": [
      "- APPL: No data found for this date range, symbol may be delisted\n"
     ]
    },
    {
     "name": "stderr",
     "output_type": "stream",
     "text": [
      "C:\\Users\\polin\\anaconda3\\lib\\site-packages\\altair\\utils\\core.py:219: UserWarning: I don't know how to infer vegalite type from 'empty'.  Defaulting to nominal.\n",
      "  warnings.warn(\n",
      "C:\\Users\\polin\\anaconda3\\lib\\site-packages\\altair\\utils\\core.py:219: UserWarning: I don't know how to infer vegalite type from 'empty'.  Defaulting to nominal.\n",
      "  warnings.warn(\n"
     ]
    },
    {
     "data": {
      "text/plain": [
       "DeltaGenerator(_root_container=0, _provided_cursor=None, _parent=None, _block_type=None, _form_data=None)"
      ]
     },
     "execution_count": 4,
     "metadata": {},
     "output_type": "execute_result"
    }
   ],
   "source": [
    "st.write(\"\"\"\" #Shown are the **closing price** and **volume**\"\"\")\n",
    "ticker = 'APPL'\n",
    "data = yf.Ticker(ticker)\n",
    "df = data.history(period = '1d', start = '2010-5-31', end = '2020-5-31')\n",
    "st.line_chart(df.Close)\n",
    "st.line_chart(df.Volume)"
   ]
  },
  {
   "cell_type": "code",
   "execution_count": null,
   "id": "cdefe1e7",
   "metadata": {},
   "outputs": [],
   "source": []
  }
 ],
 "metadata": {
  "kernelspec": {
   "display_name": "Python 3 (ipykernel)",
   "language": "python",
   "name": "python3"
  },
  "language_info": {
   "codemirror_mode": {
    "name": "ipython",
    "version": 3
   },
   "file_extension": ".py",
   "mimetype": "text/x-python",
   "name": "python",
   "nbconvert_exporter": "python",
   "pygments_lexer": "ipython3",
   "version": "3.9.12"
  }
 },
 "nbformat": 4,
 "nbformat_minor": 5
}
